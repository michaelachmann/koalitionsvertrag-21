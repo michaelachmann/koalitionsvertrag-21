{
 "cells": [
  {
   "cell_type": "markdown",
   "metadata": {},
   "source": [
    "# Auswertung Koalitionsvertrag\n",
    "## 2. Beispiele für den Foliensatz\n",
    "Mit diesem Notebook möchte ich zeigen warum einzelne Schritte in der NLP-Pipeline notwendig sind."
   ]
  },
  {
   "cell_type": "code",
   "execution_count": 10,
   "metadata": {},
   "outputs": [],
   "source": [
    "import nltk\n",
    "from nltk.tokenize import RegexpTokenizer\n",
    "from nltk.tokenize import word_tokenize\n",
    "from nltk.corpus import stopwords\n",
    "import requests\n",
    "import pandas as pd"
   ]
  },
  {
   "cell_type": "code",
   "execution_count": 9,
   "metadata": {},
   "outputs": [],
   "source": [
    "stop_words = stopwords.words('German')"
   ]
  },
  {
   "cell_type": "markdown",
   "metadata": {},
   "source": [
    "### Tokenization ohne Entfernen der Satzzeichen und Stoppwörter"
   ]
  },
  {
   "cell_type": "code",
   "execution_count": 11,
   "metadata": {},
   "outputs": [],
   "source": [
    "# Using the FDP file as an example\n",
    "with open('data/fdp_b.txt', 'r') as f:\n",
    "    corpus = f.read()"
   ]
  },
  {
   "cell_type": "code",
   "execution_count": 20,
   "metadata": {},
   "outputs": [],
   "source": [
    "tokens = word_tokenize(corpus)\n",
    "df = pd.DataFrame.from_dict(nltk.FreqDist(tokens), orient='index')\n",
    "df.columns = ['Frequency']\n",
    "df.index.name = 'Term'"
   ]
  },
  {
   "cell_type": "code",
   "execution_count": 39,
   "metadata": {},
   "outputs": [
    {
     "name": "stdout",
     "output_type": "stream",
     "text": [
      "\\begin{tabular}{lr}\n",
      "\\toprule\n",
      "{} &  Frequency \\\\\n",
      "Term        &            \\\\\n",
      "\\midrule\n",
      "Freie       &        376 \\\\\n",
      "Demokraten  &        375 \\\\\n",
      "sowie       &        135 \\\\\n",
      "EU          &        128 \\\\\n",
      "müssen      &        119 \\\\\n",
      "mehr        &        111 \\\\\n",
      "fordern     &        110 \\\\\n",
      "Deutschland &        106 \\\\\n",
      "sollen      &         80 \\\\\n",
      "setzen      &         78 \\\\\n",
      "\\bottomrule\n",
      "\\end{tabular}\n",
      "\n"
     ]
    }
   ],
   "source": [
    "# Printing the top 10 terms\n",
    "print(df.sort_values(\"Frequency\", ascending=False)[0:10].to_latex())"
   ]
  },
  {
   "cell_type": "markdown",
   "metadata": {},
   "source": [
    "### Tokenization, Satzzeichen entfernt, Stoppwörter bleiben"
   ]
  },
  {
   "cell_type": "code",
   "execution_count": 41,
   "metadata": {},
   "outputs": [],
   "source": [
    "tokens = RegexpTokenizer(r'\\w+').tokenize(corpus)\n",
    "\n",
    "df = pd.DataFrame.from_dict(nltk.FreqDist(tokens), orient='index')\n",
    "df.columns = ['Frequency']\n",
    "df.index.name = 'Term'"
   ]
  },
  {
   "cell_type": "code",
   "execution_count": 42,
   "metadata": {},
   "outputs": [
    {
     "name": "stdout",
     "output_type": "stream",
     "text": [
      "\\begin{tabular}{lr}\n",
      "\\toprule\n",
      "{} &  Frequency \\\\\n",
      "Term   &            \\\\\n",
      "\\midrule\n",
      "und    &       1696 \\\\\n",
      "die    &       1106 \\\\\n",
      "der    &       1000 \\\\\n",
      "für    &        616 \\\\\n",
      "Wir    &        534 \\\\\n",
      "wollen &        480 \\\\\n",
      "in     &        477 \\\\\n",
      "wir    &        419 \\\\\n",
      "von    &        389 \\\\\n",
      "zu     &        381 \\\\\n",
      "\\bottomrule\n",
      "\\end{tabular}\n",
      "\n"
     ]
    }
   ],
   "source": [
    "# Printing the top 10 terms\n",
    "print(df.sort_values(\"Frequency\", ascending=False)[0:10].to_latex())"
   ]
  },
  {
   "cell_type": "markdown",
   "metadata": {},
   "source": [
    "### Tokenization mit Satzzeichen ohne Stoppwörter"
   ]
  },
  {
   "cell_type": "code",
   "execution_count": 34,
   "metadata": {},
   "outputs": [],
   "source": [
    "tokens = word_tokenize(corpus)\n",
    "filtered = [w for w in tokens if not w.lower() in stop_words] # Removing Stop Words\n",
    "\n",
    "df = pd.DataFrame.from_dict(nltk.FreqDist(filtered), orient='index')\n",
    "df.columns = ['Frequency']\n",
    "df.index.name = 'Term'"
   ]
  },
  {
   "cell_type": "code",
   "execution_count": 35,
   "metadata": {},
   "outputs": [
    {
     "data": {
      "text/html": [
       "<div>\n",
       "<style scoped>\n",
       "    .dataframe tbody tr th:only-of-type {\n",
       "        vertical-align: middle;\n",
       "    }\n",
       "\n",
       "    .dataframe tbody tr th {\n",
       "        vertical-align: top;\n",
       "    }\n",
       "\n",
       "    .dataframe thead th {\n",
       "        text-align: right;\n",
       "    }\n",
       "</style>\n",
       "<table border=\"1\" class=\"dataframe\">\n",
       "  <thead>\n",
       "    <tr style=\"text-align: right;\">\n",
       "      <th></th>\n",
       "      <th>Frequency</th>\n",
       "    </tr>\n",
       "    <tr>\n",
       "      <th>Term</th>\n",
       "      <th></th>\n",
       "    </tr>\n",
       "  </thead>\n",
       "  <tbody>\n",
       "    <tr>\n",
       "      <th>.</th>\n",
       "      <td>2075</td>\n",
       "    </tr>\n",
       "    <tr>\n",
       "      <th>,</th>\n",
       "      <td>1335</td>\n",
       "    </tr>\n",
       "    <tr>\n",
       "      <th>Freie</th>\n",
       "      <td>376</td>\n",
       "    </tr>\n",
       "    <tr>\n",
       "      <th>Demokraten</th>\n",
       "      <td>375</td>\n",
       "    </tr>\n",
       "    <tr>\n",
       "      <th>sowie</th>\n",
       "      <td>135</td>\n",
       "    </tr>\n",
       "    <tr>\n",
       "      <th>–</th>\n",
       "      <td>122</td>\n",
       "    </tr>\n",
       "    <tr>\n",
       "      <th>müssen</th>\n",
       "      <td>119</td>\n",
       "    </tr>\n",
       "    <tr>\n",
       "      <th>mehr</th>\n",
       "      <td>111</td>\n",
       "    </tr>\n",
       "    <tr>\n",
       "      <th>„</th>\n",
       "      <td>110</td>\n",
       "    </tr>\n",
       "    <tr>\n",
       "      <th>fordern</th>\n",
       "      <td>110</td>\n",
       "    </tr>\n",
       "  </tbody>\n",
       "</table>\n",
       "</div>"
      ],
      "text/plain": [
       "            Frequency\n",
       "Term                 \n",
       ".                2075\n",
       ",                1335\n",
       "Freie             376\n",
       "Demokraten        375\n",
       "sowie             135\n",
       "–                 122\n",
       "müssen            119\n",
       "mehr              111\n",
       "„                 110\n",
       "fordern           110"
      ]
     },
     "execution_count": 35,
     "metadata": {},
     "output_type": "execute_result"
    }
   ],
   "source": [
    "# Printing the top 10 terms\n",
    "print(df.sort_values(\"Frequency\", ascending=False)[0:10].to_latex())"
   ]
  },
  {
   "cell_type": "markdown",
   "metadata": {},
   "source": [
    "### Tokenization ohne Satzzeichen, ohne Stoppwörter"
   ]
  },
  {
   "cell_type": "code",
   "execution_count": 43,
   "metadata": {},
   "outputs": [],
   "source": [
    "tokens = RegexpTokenizer(r'\\w+').tokenize(corpus)\n",
    "filtered = [w for w in tokens if not w.lower() in stop_words] # Removing Stop Words\n",
    "\n",
    "df = pd.DataFrame.from_dict(nltk.FreqDist(filtered), orient='index')\n",
    "df.columns = ['Frequency']\n",
    "df.index.name = 'Term'"
   ]
  },
  {
   "cell_type": "code",
   "execution_count": 44,
   "metadata": {},
   "outputs": [
    {
     "name": "stdout",
     "output_type": "stream",
     "text": [
      "\\begin{tabular}{lr}\n",
      "\\toprule\n",
      "{} &  Frequency \\\\\n",
      "Term        &            \\\\\n",
      "\\midrule\n",
      "Freie       &        376 \\\\\n",
      "Demokraten  &        375 \\\\\n",
      "sowie       &        135 \\\\\n",
      "EU          &        128 \\\\\n",
      "müssen      &        119 \\\\\n",
      "mehr        &        111 \\\\\n",
      "fordern     &        110 \\\\\n",
      "Deutschland &        106 \\\\\n",
      "sollen      &         80 \\\\\n",
      "setzen      &         78 \\\\\n",
      "\\bottomrule\n",
      "\\end{tabular}\n",
      "\n"
     ]
    }
   ],
   "source": [
    "# Printing the top 10 terms\n",
    "print(df.sort_values(\"Frequency\", ascending=False)[0:10].to_latex())"
   ]
  }
 ],
 "metadata": {
  "kernelspec": {
   "display_name": "Python 3",
   "language": "python",
   "name": "python3"
  },
  "language_info": {
   "codemirror_mode": {
    "name": "ipython",
    "version": 3
   },
   "file_extension": ".py",
   "mimetype": "text/x-python",
   "name": "python",
   "nbconvert_exporter": "python",
   "pygments_lexer": "ipython3",
   "version": "3.8.3"
  }
 },
 "nbformat": 4,
 "nbformat_minor": 4
}
